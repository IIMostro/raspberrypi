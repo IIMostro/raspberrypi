{
 "cells": [
  {
   "cell_type": "markdown",
   "metadata": {
    "pycharm": {
     "name": "#%% md\n"
    }
   },
   "source": [
    "    1.\n",
    "    https://micropython.org/download/esp8266/\n",
    "    下载固件"
   ]
  },
  {
   "cell_type": "markdown",
   "metadata": {
    "pycharm": {
     "name": "#%% md\n"
    }
   },
   "source": [
    "    2.\n",
    "    pip install esptool\n",
    "    安装工具"
   ]
  },
  {
   "cell_type": "markdown",
   "metadata": {
    "pycharm": {
     "name": "#%% md\n"
    }
   },
   "source": [
    "    3.\n",
    "    esptool.py read_mac #查看设备是否连接上\n",
    "    esptool.py --port /dev/tty.usbserial-14110 erase_flash #擦除之前的环境\n",
    "    esptool.py --port /dev/tty.usbserial-14110 --baud 460800 write_flash --flash_size=detect 0 esp8266-20200911-v1.13.bin #将固件烧录到芯片上"
   ]
  },
  {
   "cell_type": "markdown",
   "metadata": {
    "pycharm": {
     "name": "#%% md\n"
    }
   },
   "source": [
    "    4.\n",
    "    sudo screen -L /dev/tty.usbserial-14110 115200 #使用screen进入REPL界面\n",
    "    或者使用minicom"
   ]
  },
  {
   "cell_type": "markdown",
   "metadata": {
    "pycharm": {
     "name": "#%% md\n"
    }
   },
   "source": [
    "    5.\n",
    "```python\n",
    "import machine\n",
    "pin = machine.Pin(2, machine.Pin.OUT)\n",
    "pin.off()\n",
    "pin.on()\n",
    "```\n",
    "    测试代码，管脚的高低电平不一致，所以off()和on()都有可能是开关灯"
   ]
  },
  {
   "cell_type": "markdown",
   "metadata": {
    "pycharm": {
     "name": "#%% md\n"
    }
   },
   "source": [
    "    6.\n",
    "```python\n",
    "import machine\n",
    "import time\n",
    "# 指明 GPIO2 管脚\n",
    "pin = machine.Pin(2, machine.Pin.OUT)\n",
    "# 循环执行\n",
    "while True: \n",
    "    time.sleep(2) \n",
    "    # 等待 2 秒 \n",
    "    pin.on() \n",
    "    # 控制 LED 状态 \n",
    "    time.sleep(2) \n",
    "    # 等待 2 秒 \n",
    "    pin.off() \n",
    "    # 切换 LED\n",
    "```\n",
    "    main.py"
   ]
  },
  {
   "cell_type": "markdown",
   "metadata": {
    "pycharm": {
     "name": "#%% md\n"
    }
   },
   "source": [
    "    7.\n",
    "    pip install adafruit-ampy\n",
    "    ampy -p /dev/tty.usbserial-14110 put main.py #上传文件\n",
    "    ampy -p /dev/tty.usbserial-14110 rm main.py #删除文件\n",
    "    ampy -p /dev/tty.usbserial-14110 ls #展示所有文件\n",
    "    ampy -p /dev/tty.usbserial-14110 run main.py #在芯片上运行文件\n",
    "    ampy -p /dev/tty.usbserial-14110 get main.py #下载芯片上的文件到电脑"
   ]
  },
  {
   "cell_type": "markdown",
   "metadata": {
    "pycharm": {
     "name": "#%% md\n"
    }
   },
   "source": [
    "    8.\n",
    "```python\n",
    "from machine import Pin, PWM\n",
    "import time\n",
    "\n",
    "'''\n",
    "    呼吸灯演示\n",
    "'''\n",
    "led2 = PWM(Pin(2, Pin.OUT))\n",
    "led2.freq(1000)\n",
    "while True:\n",
    "    for i in range(0, 1024):\n",
    "        led2.duty(i)\n",
    "        time.sleep_ms(2)\n",
    "    for i in range(1024, -1, -1):\n",
    "        led2.duty(i)\n",
    "        time.sleep_ms(2)\n",
    "```\n",
    "    呼吸灯\n",
    "    "
   ]
  },
  {
   "cell_type": "markdown",
   "metadata": {
    "pycharm": {
     "name": "#%% md\n"
    }
   },
   "source": [
    "    9.\n",
    "```python\n",
    "import network\n",
    "\n",
    "# 设置sta模式，连接别人。 AP模式：别人连接这台设备\n",
    "wlan = network.WLAN(network.STA_IF)\n",
    "wlan.connect(\"wifi_name\", \"wifi_password\")\n",
    "wlan.isconnected()\n",
    "```\n",
    "    连接wifi"
   ]
  },
  {
   "cell_type": "code",
   "execution_count": null,
   "metadata": {
    "pycharm": {
     "name": "#%%\n"
    }
   },
   "outputs": [],
   "source": []
  }
 ],
 "metadata": {
  "kernelspec": {
   "display_name": "Python 3 (ipykernel)",
   "language": "python",
   "name": "python3"
  },
  "language_info": {
   "codemirror_mode": {
    "name": "ipython",
    "version": 3
   },
   "file_extension": ".py",
   "mimetype": "text/x-python",
   "name": "python",
   "nbconvert_exporter": "python",
   "pygments_lexer": "ipython3",
   "version": "3.8.5"
  }
 },
 "nbformat": 4,
 "nbformat_minor": 4
}
