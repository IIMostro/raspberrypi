{
 "cells": [
  {
   "cell_type": "markdown",
   "metadata": {
    "pycharm": {
     "name": "#%% md\n"
    }
   },
   "source": [
    "## 舵机"
   ]
  },
  {
   "cell_type": "markdown",
   "metadata": {
    "pycharm": {
     "name": "#%% md\n"
    }
   },
   "source": [
    "### 舵机使用pwm来控制, pwm是这么算的。首先设置频率通常是50hz, 然后计算占空比。\n",
    "### 一个周期内是20ms的话， 如果需要一个0.5ms的信号，则计算为 0.5/20 * 65535"
   ]
  },
  {
   "cell_type": "markdown",
   "metadata": {
    "pycharm": {
     "name": "#%% md\n"
    }
   },
   "source": [
    "### MG995为360度的舵机\n",
    "#### 中间红色为5v正极，左边灰色为GND, 黄色为信号线\n",
    "#### 控制频率\n",
    "    * 0.5-1.5ms的PWM信号控制正转，此范围值越小，转速越快 (1638 ~ 4915)\n",
    "    * 1.5-2.5ms的PWM信号控制反转，此范围值越大，转速越快 (4916 ~ 8191)\n",
    "    * 1.5ms的信号为停止"
   ]
  },
  {
   "cell_type": "markdown",
   "metadata": {
    "pycharm": {
     "name": "#%% md\n"
    }
   },
   "source": [
    "### 实际测试 \n",
    "    * duty_u16  4700 ~ 5050 停止转动\n",
    "    * duty_u16  1310 ~ 4696 正转\n",
    "    * duty_u16  5057 ~ 8440 反转"
   ]
  }
 ],
 "metadata": {
  "kernelspec": {
   "display_name": "Python 3 (ipykernel)",
   "language": "python",
   "name": "python3"
  },
  "language_info": {
   "codemirror_mode": {
    "name": "ipython",
    "version": 3
   },
   "file_extension": ".py",
   "mimetype": "text/x-python",
   "name": "python",
   "nbconvert_exporter": "python",
   "pygments_lexer": "ipython3",
   "version": "3.8.5"
  }
 },
 "nbformat": 4,
 "nbformat_minor": 1
}
