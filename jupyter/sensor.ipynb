{
 "cells": [
  {
   "cell_type": "markdown",
   "metadata": {},
   "source": [
    "### rotation sensor\n",
    "```python\n",
    "from machine import ADC,Pin\n",
    "adc = ADC(Pin(13))\n",
    "# 设置3.3V的电压，否则会有一半没有用\n",
    "adc.atten(ADC.ATTN_11DB)\n",
    "adc.read()\n",
    "```"
   ]
  },
  {
   "cell_type": "markdown",
   "metadata": {},
   "source": [
    "### button\n",
    "```python\n",
    "from machine import Pin\n",
    "push_button = Pin(26, Pin.IN)\n",
    "push_button.value()\n",
    "```"
   ]
  },
  {
   "cell_type": "markdown",
   "metadata": {},
   "source": [
    "### gy-61\n",
    "```python\n",
    "from machine import ADC, Pin\n",
    "import time\n",
    "x = ADC(Pin(12), atten=ADC.ATTN_11DB)\n",
    "y = ADC(Pin(13), atten=ADC.ATTN_11DB)\n",
    "z = ADC(Pin(14), atten=ADC.ATTN_11DB)\n",
    "while True:\n",
    "    print(f\"x:{x.read()}, y:{x.read()}, z:{x.read()}\")\n",
    "    time.sleep_ms(100)\n",
    "```"
   ]
  },
  {
   "cell_type": "markdown",
   "metadata": {},
   "source": [
    "### ADC的一些配置\n",
    "#### ATTEN\n",
    "    * ADC.ATTN_0DB — the full range voltage: 1.2V\n",
    "    * ADC.ATTN_2_5DB — the full range voltage: 1.5V\n",
    "    * ADC.ATTN_6DB — the full range voltage: 2.0V\n",
    "    * ADC.ATTN_11DB — the full range voltage: 3.3V    \n",
    "#### WIDTH\n",
    "    * ADC.WIDTH_9BIT: range 0 to 511\n",
    "    * ADC.WIDTH_10BIT: range 0 to 1023\n",
    "    * ADC.WIDTH_11BIT: range 0 to 2047\n",
    "    * ADC.WIDTH_12BIT: range 0 to 4095"
   ]
  }
 ],
 "metadata": {
  "kernelspec": {
   "display_name": "Python [conda env:root] *",
   "language": "python",
   "name": "conda-root-py"
  },
  "language_info": {
   "codemirror_mode": {
    "name": "ipython",
    "version": 3
   },
   "file_extension": ".py",
   "mimetype": "text/x-python",
   "name": "python",
   "nbconvert_exporter": "python",
   "pygments_lexer": "ipython3",
   "version": "3.8.5"
  }
 },
 "nbformat": 4,
 "nbformat_minor": 4
}
