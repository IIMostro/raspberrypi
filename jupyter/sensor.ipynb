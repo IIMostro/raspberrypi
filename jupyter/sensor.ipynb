{
 "cells": [
  {
   "cell_type": "markdown",
   "metadata": {},
   "source": [
    "### rotation sensor\n",
    "```python\n",
    "from machine import ADC,Pin\n",
    "adc = machine.ADC(Pin(13))\n",
    "# 设置3.3V的电压，否则会有一半没有用\n",
    "adc.atten(ADC.ATTN_11DB)\n",
    "adc.read()\n",
    "```"
   ]
  },
  {
   "cell_type": "markdown",
   "metadata": {},
   "source": [
    "### button\n",
    "```python\n",
    "from machine import Pin\n",
    "push_button = Pin(26, Pin.IN)\n",
    "push_button.value()\n",
    "```"
   ]
  },
  {
   "cell_type": "code",
   "execution_count": null,
   "metadata": {},
   "outputs": [],
   "source": []
  }
 ],
 "metadata": {
  "kernelspec": {
   "display_name": "Python [conda env:root] *",
   "language": "python",
   "name": "conda-root-py"
  },
  "language_info": {
   "codemirror_mode": {
    "name": "ipython",
    "version": 3
   },
   "file_extension": ".py",
   "mimetype": "text/x-python",
   "name": "python",
   "nbconvert_exporter": "python",
   "pygments_lexer": "ipython3",
   "version": "3.8.5"
  }
 },
 "nbformat": 4,
 "nbformat_minor": 4
}
