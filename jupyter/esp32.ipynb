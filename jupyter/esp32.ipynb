{
 "cells": [
  {
   "cell_type": "markdown",
   "metadata": {
    "pycharm": {
     "name": "#%% md\n"
    }
   },
   "source": [
    "### 烧录 esptool --chip esp32 --port /dev/tty.usbserial-0001 write_flash -z 0x1000 esp32-20220618-v1.19.1.bin\n",
    "#### 如果出现\n",
    "```\n",
    "esptool.py v4.0\n",
    "Serial port /dev/ttyUSB0\n",
    "Connecting......................................\n",
    "\n",
    "A fatal error occurrd: Failed to connect to ESP32: Wrong boot mode detected (0x13)! The chip needs to be in download mode.\n",
    "For troubleshooting steps visit: https://docs.espressif.com/projects/esptool/en/latest/troubleshooting.html\n",
    "```\n",
    "可以在烧录过程过按住BOOT然后再放开"
   ]
  },
  {
   "cell_type": "markdown",
   "metadata": {
    "pycharm": {
     "name": "#%% md\n"
    }
   },
   "source": [
    "### The filesystem appears to be corrupted. If you had important data there, you\n",
    "may want to make a flash snapshot to try to recover it. Otherwise, perform\n",
    "factory reprogramming of MicroPython firmware (completely erase flash, followed\n",
    "by firmware programming)."
   ]
  },
  {
   "cell_type": "markdown",
   "metadata": {
    "pycharm": {
     "name": "#%% md\n"
    }
   },
   "source": [
    "```python\n",
    "import os\n",
    "os.VfsFat.mkfs(bdev)\n",
    "```"
   ]
  },
  {
   "cell_type": "code",
   "execution_count": null,
   "metadata": {
    "pycharm": {
     "name": "#%%\n"
    }
   },
   "outputs": [],
   "source": []
  }
 ],
 "metadata": {
  "kernelspec": {
   "display_name": "Python 3 (ipykernel)",
   "language": "python",
   "name": "python3"
  },
  "language_info": {
   "codemirror_mode": {
    "name": "ipython",
    "version": 3
   },
   "file_extension": ".py",
   "mimetype": "text/x-python",
   "name": "python",
   "nbconvert_exporter": "python",
   "pygments_lexer": "ipython3",
   "version": "3.8.5"
  }
 },
 "nbformat": 4,
 "nbformat_minor": 4
}